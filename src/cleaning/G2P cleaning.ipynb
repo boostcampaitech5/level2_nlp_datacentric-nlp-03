{
 "cells": [
  {
   "attachments": {},
   "cell_type": "markdown",
   "metadata": {},
   "source": [
    "## G2P로 생성된 노이즈 데이터를 제거하는 파일"
   ]
  },
  {
   "cell_type": "code",
   "execution_count": 1,
   "metadata": {},
   "outputs": [],
   "source": [
    "import pandas as pd"
   ]
  },
  {
   "cell_type": "code",
   "execution_count": 2,
   "metadata": {},
   "outputs": [
    {
     "data": {
      "text/html": [
       "<div>\n",
       "<style scoped>\n",
       "    .dataframe tbody tr th:only-of-type {\n",
       "        vertical-align: middle;\n",
       "    }\n",
       "\n",
       "    .dataframe tbody tr th {\n",
       "        vertical-align: top;\n",
       "    }\n",
       "\n",
       "    .dataframe thead th {\n",
       "        text-align: right;\n",
       "    }\n",
       "</style>\n",
       "<table border=\"1\" class=\"dataframe\">\n",
       "  <thead>\n",
       "    <tr style=\"text-align: right;\">\n",
       "      <th></th>\n",
       "      <th>ID</th>\n",
       "      <th>text</th>\n",
       "      <th>target</th>\n",
       "      <th>url</th>\n",
       "      <th>date</th>\n",
       "    </tr>\n",
       "  </thead>\n",
       "  <tbody>\n",
       "    <tr>\n",
       "      <th>0</th>\n",
       "      <td>ynat-v1_train_00000</td>\n",
       "      <td>유튜브 내달 2일까지 크리에이터 지원 공간 운영</td>\n",
       "      <td>3</td>\n",
       "      <td>https://news.naver.com/main/read.nhn?mode=LS2D...</td>\n",
       "      <td>2016.06.30. 오전 10:36</td>\n",
       "    </tr>\n",
       "    <tr>\n",
       "      <th>1</th>\n",
       "      <td>ynat-v1_train_00001</td>\n",
       "      <td>어버이날 막따가 흐려저…남부지방 여튼 황사</td>\n",
       "      <td>3</td>\n",
       "      <td>https://news.naver.com/main/read.nhn?mode=LS2D...</td>\n",
       "      <td>2016.05.08. 오전 5:25</td>\n",
       "    </tr>\n",
       "    <tr>\n",
       "      <th>2</th>\n",
       "      <td>ynat-v1_train_00002</td>\n",
       "      <td>내년부터 국가RD 평가 때 논문건수는 반영 않는다</td>\n",
       "      <td>2</td>\n",
       "      <td>https://news.naver.com/main/read.nhn?mode=LS2D...</td>\n",
       "      <td>2016.03.15. 오후 12:00</td>\n",
       "    </tr>\n",
       "    <tr>\n",
       "      <th>3</th>\n",
       "      <td>ynat-v1_train_00003</td>\n",
       "      <td>김명자 신임 과총 회장 원로와 젊은 과학자 지혜 모을 것</td>\n",
       "      <td>2</td>\n",
       "      <td>https://news.naver.com/main/read.nhn?mode=LS2D...</td>\n",
       "      <td>2017.02.28. 오전 9:54</td>\n",
       "    </tr>\n",
       "    <tr>\n",
       "      <th>4</th>\n",
       "      <td>ynat-v1_train_00004</td>\n",
       "      <td>회새긴간 작까 김동시 걍심꼬백 뜽 새 소설집 뚜권 출간</td>\n",
       "      <td>3</td>\n",
       "      <td>https://news.naver.com/main/read.nhn?mode=LS2D...</td>\n",
       "      <td>2018.04.03. 오전 7:05</td>\n",
       "    </tr>\n",
       "  </tbody>\n",
       "</table>\n",
       "</div>"
      ],
      "text/plain": [
       "                    ID                             text  target   \n",
       "0  ynat-v1_train_00000       유튜브 내달 2일까지 크리에이터 지원 공간 운영       3  \\\n",
       "1  ynat-v1_train_00001          어버이날 막따가 흐려저…남부지방 여튼 황사       3   \n",
       "2  ynat-v1_train_00002      내년부터 국가RD 평가 때 논문건수는 반영 않는다       2   \n",
       "3  ynat-v1_train_00003  김명자 신임 과총 회장 원로와 젊은 과학자 지혜 모을 것       2   \n",
       "4  ynat-v1_train_00004   회새긴간 작까 김동시 걍심꼬백 뜽 새 소설집 뚜권 출간       3   \n",
       "\n",
       "                                                 url                  date  \n",
       "0  https://news.naver.com/main/read.nhn?mode=LS2D...  2016.06.30. 오전 10:36  \n",
       "1  https://news.naver.com/main/read.nhn?mode=LS2D...   2016.05.08. 오전 5:25  \n",
       "2  https://news.naver.com/main/read.nhn?mode=LS2D...  2016.03.15. 오후 12:00  \n",
       "3  https://news.naver.com/main/read.nhn?mode=LS2D...   2017.02.28. 오전 9:54  \n",
       "4  https://news.naver.com/main/read.nhn?mode=LS2D...   2018.04.03. 오전 7:05  "
      ]
     },
     "execution_count": 2,
     "metadata": {},
     "output_type": "execute_result"
    }
   ],
   "source": [
    "train_df = pd.read_csv(\"../data/train.csv\")\n",
    "train_df.head()"
   ]
  },
  {
   "cell_type": "code",
   "execution_count": 3,
   "metadata": {},
   "outputs": [
    {
     "data": {
      "text/plain": [
       "45678"
      ]
     },
     "execution_count": 3,
     "metadata": {},
     "output_type": "execute_result"
    }
   ],
   "source": [
    "len(train_df)"
   ]
  },
  {
   "cell_type": "code",
   "execution_count": 5,
   "metadata": {},
   "outputs": [],
   "source": [
    "# 중복 행 제거\n",
    "train_df.drop_duplicates(subset=[\"text\", \"target\"], inplace=True, ignore_index=True)"
   ]
  },
  {
   "cell_type": "code",
   "execution_count": 6,
   "metadata": {},
   "outputs": [
    {
     "data": {
      "text/plain": [
       "45678"
      ]
     },
     "execution_count": 6,
     "metadata": {},
     "output_type": "execute_result"
    }
   ],
   "source": [
    "len(train_df)"
   ]
  },
  {
   "cell_type": "code",
   "execution_count": 7,
   "metadata": {},
   "outputs": [],
   "source": [
    "# pip install git+https://github.com/jungin500/py-hanspell\n",
    "# spell_checker.py에서 class:'purple'을 class:'violet'으로 수정\n",
    "from hanspell import spell_checker\n",
    "from tqdm.notebook import tqdm"
   ]
  },
  {
   "cell_type": "code",
   "execution_count": 10,
   "metadata": {},
   "outputs": [
    {
     "data": {
      "application/vnd.jupyter.widget-view+json": {
       "model_id": "adbad9c14ed542478bffb9db52740394",
       "version_major": 2,
       "version_minor": 0
      },
      "text/plain": [
       "  0%|          | 0/45678 [00:00<?, ?it/s]"
      ]
     },
     "metadata": {},
     "output_type": "display_data"
    }
   ],
   "source": [
    "checked = []\n",
    "for idx, row in tqdm(train_df.iterrows(), total=len(train_df)):\n",
    "    checked.append(spell_checker.check(row[\"text\"]).as_dict())"
   ]
  },
  {
   "cell_type": "code",
   "execution_count": 11,
   "metadata": {},
   "outputs": [],
   "source": [
    "train_df[\"spell_check\"] = checked"
   ]
  },
  {
   "cell_type": "code",
   "execution_count": 12,
   "metadata": {},
   "outputs": [],
   "source": [
    "def calc_error_ratio(error_dict):\n",
    "    word_list = list(error_dict[\"words\"].values())\n",
    "    total_len = len(word_list)\n",
    "    not_error_word = word_list.count(0) + word_list.count(2) # 0번은 맞춤법 문제 없음, 2번은 띄어쓰기 오류. 정상 문장에서도 띄어쓰기 오류는 많아서 제외함.\n",
    "\n",
    "    return (total_len - not_error_word) / total_len"
   ]
  },
  {
   "cell_type": "code",
   "execution_count": 13,
   "metadata": {},
   "outputs": [],
   "source": [
    "train_df[\"error_ratio\"] = train_df[\"spell_check\"].apply(calc_error_ratio)"
   ]
  },
  {
   "cell_type": "code",
   "execution_count": 16,
   "metadata": {},
   "outputs": [
    {
     "data": {
      "text/html": [
       "<div>\n",
       "<style scoped>\n",
       "    .dataframe tbody tr th:only-of-type {\n",
       "        vertical-align: middle;\n",
       "    }\n",
       "\n",
       "    .dataframe tbody tr th {\n",
       "        vertical-align: top;\n",
       "    }\n",
       "\n",
       "    .dataframe thead th {\n",
       "        text-align: right;\n",
       "    }\n",
       "</style>\n",
       "<table border=\"1\" class=\"dataframe\">\n",
       "  <thead>\n",
       "    <tr style=\"text-align: right;\">\n",
       "      <th></th>\n",
       "      <th>ID</th>\n",
       "      <th>text</th>\n",
       "      <th>target</th>\n",
       "      <th>url</th>\n",
       "      <th>date</th>\n",
       "      <th>spell_check</th>\n",
       "      <th>error_ratio</th>\n",
       "    </tr>\n",
       "  </thead>\n",
       "  <tbody>\n",
       "    <tr>\n",
       "      <th>30772</th>\n",
       "      <td>ynat-v1_train_30772</td>\n",
       "      <td>에이스 이재영이 오세트에 외친 말 라 줘 나 줘</td>\n",
       "      <td>5</td>\n",
       "      <td>https://sports.news.naver.com/news.nhn?oid=001...</td>\n",
       "      <td>2019.03.25 22:33</td>\n",
       "      <td>{'result': True, 'original': '에이스 이재영이 오세트에 외친...</td>\n",
       "      <td>0.222222</td>\n",
       "    </tr>\n",
       "    <tr>\n",
       "      <th>12453</th>\n",
       "      <td>ynat-v1_train_12453</td>\n",
       "      <td>삼성重·대우조선 파산보호 신청한 시드릴과 계약해지종합</td>\n",
       "      <td>2</td>\n",
       "      <td>https://news.naver.com/main/read.nhn?mode=LS2D...</td>\n",
       "      <td>2018.03.26. 오후 6:16</td>\n",
       "      <td>{'result': True, 'original': '삼성重·대우조선 파산보호 신청...</td>\n",
       "      <td>0.222222</td>\n",
       "    </tr>\n",
       "    <tr>\n",
       "      <th>26670</th>\n",
       "      <td>ynat-v1_train_26670</td>\n",
       "      <td>첼로 거장 마이스키 절믄 클래시 강상블 디토와 한 무대</td>\n",
       "      <td>3</td>\n",
       "      <td>https://news.naver.com/main/read.nhn?mode=LS2D...</td>\n",
       "      <td>2018.04.03. 오전 11:29</td>\n",
       "      <td>{'result': True, 'original': '첼로 거장 마이스키 절믄 클래...</td>\n",
       "      <td>0.222222</td>\n",
       "    </tr>\n",
       "    <tr>\n",
       "      <th>20970</th>\n",
       "      <td>ynat-v1_train_20970</td>\n",
       "      <td>스스로 자부시믈 로피자…한화 워크쇼브로 시즌 마무리</td>\n",
       "      <td>5</td>\n",
       "      <td>https://sports.news.naver.com/news.nhn?oid=001...</td>\n",
       "      <td>2018.11.28 17:57</td>\n",
       "      <td>{'result': True, 'original': '스스로 자부시믈 로피자…한화 ...</td>\n",
       "      <td>0.222222</td>\n",
       "    </tr>\n",
       "    <tr>\n",
       "      <th>44843</th>\n",
       "      <td>ynat-v1_train_44843</td>\n",
       "      <td>특징주 엘앤케이바이오 코스닥 이전 상장 첫날 급락종합</td>\n",
       "      <td>1</td>\n",
       "      <td>https://news.naver.com/main/read.nhn?mode=LS2D...</td>\n",
       "      <td>2016.11.30. 오후 4:01</td>\n",
       "      <td>{'result': True, 'original': '특징주 엘앤케이바이오 코스닥 ...</td>\n",
       "      <td>0.222222</td>\n",
       "    </tr>\n",
       "    <tr>\n",
       "      <th>1687</th>\n",
       "      <td>ynat-v1_train_01687</td>\n",
       "      <td>그래피 견말정사 나라두며 뉴용한 사가지</td>\n",
       "      <td>1</td>\n",
       "      <td>https://news.naver.com/main/read.nhn?mode=LS2D...</td>\n",
       "      <td>2019.10.30. 오후 12:00</td>\n",
       "      <td>{'result': True, 'original': '그래피 견말정사 나라두며 뉴용...</td>\n",
       "      <td>0.222222</td>\n",
       "    </tr>\n",
       "    <tr>\n",
       "      <th>997</th>\n",
       "      <td>ynat-v1_train_00997</td>\n",
       "      <td>엘드림 학교 꿈을 찾아 떠나는 축구 캠프 개최</td>\n",
       "      <td>5</td>\n",
       "      <td>https://sports.news.naver.com/news.nhn?oid=001...</td>\n",
       "      <td>2018.12.29 12:14</td>\n",
       "      <td>{'result': True, 'original': '엘드림 학교 꿈을 찾아 떠나는...</td>\n",
       "      <td>0.222222</td>\n",
       "    </tr>\n",
       "    <tr>\n",
       "      <th>5037</th>\n",
       "      <td>ynat-v1_train_05037</td>\n",
       "      <td>北매체 함경북도 수해복구서 전화위복 승리 거둬종합</td>\n",
       "      <td>6</td>\n",
       "      <td>https://news.naver.com/main/read.nhn?mode=LS2D...</td>\n",
       "      <td>2016.12.07. 오후 6:10</td>\n",
       "      <td>{'result': True, 'original': '北매체 함경북도 수해복구서 전...</td>\n",
       "      <td>0.222222</td>\n",
       "    </tr>\n",
       "    <tr>\n",
       "      <th>19619</th>\n",
       "      <td>ynat-v1_train_19619</td>\n",
       "      <td>靑 판문점선언 이행추진위 오늘 3차 회의…후속조치 점검</td>\n",
       "      <td>6</td>\n",
       "      <td>https://news.naver.com/main/read.nhn?mode=LS2D...</td>\n",
       "      <td>2018.07.19. 오전 9:37</td>\n",
       "      <td>{'result': True, 'original': '靑 판문점선언 이행추진위 오늘...</td>\n",
       "      <td>0.222222</td>\n",
       "    </tr>\n",
       "    <tr>\n",
       "      <th>43802</th>\n",
       "      <td>ynat-v1_train_43802</td>\n",
       "      <td>통일부 차관 北도발 대처위해 궁미녕냥 결집 쭝요</td>\n",
       "      <td>6</td>\n",
       "      <td>https://news.naver.com/main/read.nhn?mode=LS2D...</td>\n",
       "      <td>2016.02.24. 오후 3:09</td>\n",
       "      <td>{'result': True, 'original': '통일부 차관 北도발 대처위해 ...</td>\n",
       "      <td>0.222222</td>\n",
       "    </tr>\n",
       "  </tbody>\n",
       "</table>\n",
       "</div>"
      ],
      "text/plain": [
       "                        ID                            text  target   \n",
       "30772  ynat-v1_train_30772      에이스 이재영이 오세트에 외친 말 라 줘 나 줘       5  \\\n",
       "12453  ynat-v1_train_12453   삼성重·대우조선 파산보호 신청한 시드릴과 계약해지종합       2   \n",
       "26670  ynat-v1_train_26670  첼로 거장 마이스키 절믄 클래시 강상블 디토와 한 무대       3   \n",
       "20970  ynat-v1_train_20970    스스로 자부시믈 로피자…한화 워크쇼브로 시즌 마무리       5   \n",
       "44843  ynat-v1_train_44843   특징주 엘앤케이바이오 코스닥 이전 상장 첫날 급락종합       1   \n",
       "1687   ynat-v1_train_01687           그래피 견말정사 나라두며 뉴용한 사가지       1   \n",
       "997    ynat-v1_train_00997       엘드림 학교 꿈을 찾아 떠나는 축구 캠프 개최       5   \n",
       "5037   ynat-v1_train_05037     北매체 함경북도 수해복구서 전화위복 승리 거둬종합       6   \n",
       "19619  ynat-v1_train_19619  靑 판문점선언 이행추진위 오늘 3차 회의…후속조치 점검       6   \n",
       "43802  ynat-v1_train_43802      통일부 차관 北도발 대처위해 궁미녕냥 결집 쭝요       6   \n",
       "\n",
       "                                                     url   \n",
       "30772  https://sports.news.naver.com/news.nhn?oid=001...  \\\n",
       "12453  https://news.naver.com/main/read.nhn?mode=LS2D...   \n",
       "26670  https://news.naver.com/main/read.nhn?mode=LS2D...   \n",
       "20970  https://sports.news.naver.com/news.nhn?oid=001...   \n",
       "44843  https://news.naver.com/main/read.nhn?mode=LS2D...   \n",
       "1687   https://news.naver.com/main/read.nhn?mode=LS2D...   \n",
       "997    https://sports.news.naver.com/news.nhn?oid=001...   \n",
       "5037   https://news.naver.com/main/read.nhn?mode=LS2D...   \n",
       "19619  https://news.naver.com/main/read.nhn?mode=LS2D...   \n",
       "43802  https://news.naver.com/main/read.nhn?mode=LS2D...   \n",
       "\n",
       "                       date   \n",
       "30772      2019.03.25 22:33  \\\n",
       "12453   2018.03.26. 오후 6:16   \n",
       "26670  2018.04.03. 오전 11:29   \n",
       "20970      2018.11.28 17:57   \n",
       "44843   2016.11.30. 오후 4:01   \n",
       "1687   2019.10.30. 오후 12:00   \n",
       "997        2018.12.29 12:14   \n",
       "5037    2016.12.07. 오후 6:10   \n",
       "19619   2018.07.19. 오전 9:37   \n",
       "43802   2016.02.24. 오후 3:09   \n",
       "\n",
       "                                             spell_check  error_ratio  \n",
       "30772  {'result': True, 'original': '에이스 이재영이 오세트에 외친...     0.222222  \n",
       "12453  {'result': True, 'original': '삼성重·대우조선 파산보호 신청...     0.222222  \n",
       "26670  {'result': True, 'original': '첼로 거장 마이스키 절믄 클래...     0.222222  \n",
       "20970  {'result': True, 'original': '스스로 자부시믈 로피자…한화 ...     0.222222  \n",
       "44843  {'result': True, 'original': '특징주 엘앤케이바이오 코스닥 ...     0.222222  \n",
       "1687   {'result': True, 'original': '그래피 견말정사 나라두며 뉴용...     0.222222  \n",
       "997    {'result': True, 'original': '엘드림 학교 꿈을 찾아 떠나는...     0.222222  \n",
       "5037   {'result': True, 'original': '北매체 함경북도 수해복구서 전...     0.222222  \n",
       "19619  {'result': True, 'original': '靑 판문점선언 이행추진위 오늘...     0.222222  \n",
       "43802  {'result': True, 'original': '통일부 차관 北도발 대처위해 ...     0.222222  "
      ]
     },
     "execution_count": 16,
     "metadata": {},
     "output_type": "execute_result"
    }
   ],
   "source": [
    "# 보통 error ratio가 0.2를 넘어가면 이상한 문장임\n",
    "train_df[(train_df[\"error_ratio\"] > 0.2) & (train_df[\"error_ratio\"] < 0.25)].sample(10)"
   ]
  },
  {
   "cell_type": "code",
   "execution_count": 17,
   "metadata": {},
   "outputs": [
    {
     "data": {
      "text/plain": [
       "40738"
      ]
     },
     "execution_count": 17,
     "metadata": {},
     "output_type": "execute_result"
    }
   ],
   "source": [
    "G2P_cleaned_df = train_df[train_df[\"error_ratio\"] < 0.2].drop([\"spell_check\", \"error_ratio\"], axis=1)\n",
    "len(G2P_cleaned_df)"
   ]
  },
  {
   "cell_type": "code",
   "execution_count": 18,
   "metadata": {},
   "outputs": [],
   "source": [
    "G2P_cleaned_df.to_csv(\"../data/G2P_cleaned_train.csv\", index=False)"
   ]
  },
  {
   "attachments": {},
   "cell_type": "markdown",
   "metadata": {},
   "source": [
    "총 데이터 갯수 45678 -> 47253개 (4940개 데이터 삭제)"
   ]
  }
 ],
 "metadata": {
  "kernelspec": {
   "display_name": "base",
   "language": "python",
   "name": "python3"
  },
  "language_info": {
   "codemirror_mode": {
    "name": "ipython",
    "version": 3
   },
   "file_extension": ".py",
   "mimetype": "text/x-python",
   "name": "python",
   "nbconvert_exporter": "python",
   "pygments_lexer": "ipython3",
   "version": "3.11.3"
  },
  "orig_nbformat": 4
 },
 "nbformat": 4,
 "nbformat_minor": 2
}
