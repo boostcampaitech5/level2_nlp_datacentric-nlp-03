{
 "cells": [
  {
   "cell_type": "code",
   "execution_count": 1,
   "metadata": {},
   "outputs": [],
   "source": [
    "import pandas as pd\n",
    "import numpy as np\n",
    "from cleanlab.filter import find_label_issues\n",
    "\n",
    "pd.set_option(\"display.max_colwidth\", None)"
   ]
  },
  {
   "cell_type": "code",
   "execution_count": 2,
   "metadata": {},
   "outputs": [],
   "source": [
    "train_df = pd.read_csv(\"../data/cutoff_v2.csv\")\n",
    "prob_df = pd.read_csv(\"../data/probs.csv\")"
   ]
  },
  {
   "cell_type": "code",
   "execution_count": 3,
   "metadata": {},
   "outputs": [
    {
     "data": {
      "text/plain": [
       "(42007, 42007)"
      ]
     },
     "execution_count": 3,
     "metadata": {},
     "output_type": "execute_result"
    }
   ],
   "source": [
    "len(train_df), len(prob_df)"
   ]
  },
  {
   "cell_type": "code",
   "execution_count": 4,
   "metadata": {},
   "outputs": [],
   "source": [
    "prob_df[\"probs\"] = prob_df[\"probs\"].apply(lambda x: eval(x))"
   ]
  },
  {
   "cell_type": "code",
   "execution_count": 5,
   "metadata": {},
   "outputs": [
    {
     "data": {
      "text/plain": [
       "3176"
      ]
     },
     "execution_count": 5,
     "metadata": {},
     "output_type": "execute_result"
    }
   ],
   "source": [
    "ordered_label_issues = find_label_issues(labels=prob_df['target'], # 데이터셋 라벨\n",
    "                                         pred_probs=np.array(prob_df[\"probs\"].to_list()), # 정답 예측 확률\n",
    "                                         return_indices_ranked_by='self_confidence',)\n",
    "len(ordered_label_issues)"
   ]
  },
  {
   "cell_type": "code",
   "execution_count": 6,
   "metadata": {},
   "outputs": [],
   "source": [
    "issue_df = prob_df.iloc[ordered_label_issues, :].reset_index(drop=True)"
   ]
  },
  {
   "cell_type": "code",
   "execution_count": 7,
   "metadata": {},
   "outputs": [],
   "source": [
    "idx_to_text = [\"IT과학\", \"경제\", \"사회\", \"생활문화\", \"세계\", \"스포츠\", \"정치\"]"
   ]
  },
  {
   "cell_type": "code",
   "execution_count": 8,
   "metadata": {},
   "outputs": [],
   "source": [
    "text_to_idx = {text: idx for idx, text in enumerate(idx_to_text)}"
   ]
  },
  {
   "cell_type": "code",
   "execution_count": 9,
   "metadata": {},
   "outputs": [],
   "source": [
    "issue_df[\"pred\"] = issue_df[\"probs\"].apply(lambda x: np.argmax(x))"
   ]
  },
  {
   "cell_type": "code",
   "execution_count": 10,
   "metadata": {},
   "outputs": [
    {
     "data": {
      "text/plain": [
       "831"
      ]
     },
     "execution_count": 10,
     "metadata": {},
     "output_type": "execute_result"
    }
   ],
   "source": [
    "# 모델이 95% 이상 확률로 예측한 결과와 target이 다르다면 target이 잘못되었다고 판단\n",
    "fatal_issue_df = issue_df[issue_df[\"probs\"].apply(max) > 0.95].reset_index(drop=True)\n",
    "len(fatal_issue_df)"
   ]
  },
  {
   "cell_type": "code",
   "execution_count": 11,
   "metadata": {},
   "outputs": [
    {
     "data": {
      "text/html": [
       "<div>\n",
       "<style scoped>\n",
       "    .dataframe tbody tr th:only-of-type {\n",
       "        vertical-align: middle;\n",
       "    }\n",
       "\n",
       "    .dataframe tbody tr th {\n",
       "        vertical-align: top;\n",
       "    }\n",
       "\n",
       "    .dataframe thead th {\n",
       "        text-align: right;\n",
       "    }\n",
       "</style>\n",
       "<table border=\"1\" class=\"dataframe\">\n",
       "  <thead>\n",
       "    <tr style=\"text-align: right;\">\n",
       "      <th></th>\n",
       "      <th>ID</th>\n",
       "      <th>target</th>\n",
       "      <th>probs</th>\n",
       "      <th>pred</th>\n",
       "    </tr>\n",
       "  </thead>\n",
       "  <tbody>\n",
       "    <tr>\n",
       "      <th>0</th>\n",
       "      <td>ynat-v1_train_43587</td>\n",
       "      <td>3</td>\n",
       "      <td>[0.0035275507252663374, 0.0043939026072621346, 0.010365847498178482, 0.002043513348326087, 0.013879763893783092, 0.003134066704660654, 0.9626554250717163]</td>\n",
       "      <td>6</td>\n",
       "    </tr>\n",
       "    <tr>\n",
       "      <th>1</th>\n",
       "      <td>ynat-v1_train_11475</td>\n",
       "      <td>3</td>\n",
       "      <td>[0.0035611852072179317, 0.0038410453125834465, 0.009199091233313084, 0.0023092615883797407, 0.008370122872292995, 0.003002507146447897, 0.9697167873382568]</td>\n",
       "      <td>6</td>\n",
       "    </tr>\n",
       "    <tr>\n",
       "      <th>2</th>\n",
       "      <td>ynat-v1_train_06413</td>\n",
       "      <td>3</td>\n",
       "      <td>[0.0028774600941687822, 0.004127013962715864, 0.012114248238503933, 0.0024750325828790665, 0.007154539227485657, 0.0030288679990917444, 0.9682229161262512]</td>\n",
       "      <td>6</td>\n",
       "    </tr>\n",
       "    <tr>\n",
       "      <th>3</th>\n",
       "      <td>ynat-v1_train_38468</td>\n",
       "      <td>3</td>\n",
       "      <td>[0.0030039798002690077, 0.003943936433643103, 0.013137586414813995, 0.002609808463603258, 0.007909867912530899, 0.0026529175229370594, 0.9667419195175171]</td>\n",
       "      <td>6</td>\n",
       "    </tr>\n",
       "    <tr>\n",
       "      <th>4</th>\n",
       "      <td>ynat-v1_train_41801</td>\n",
       "      <td>3</td>\n",
       "      <td>[0.003202886786311865, 0.0047707404009997845, 0.023398585617542267, 0.002672265050932765, 0.005640968680381775, 0.004050295799970627, 0.9562642574310303]</td>\n",
       "      <td>6</td>\n",
       "    </tr>\n",
       "  </tbody>\n",
       "</table>\n",
       "</div>"
      ],
      "text/plain": [
       "                    ID  target   \n",
       "0  ynat-v1_train_43587       3  \\\n",
       "1  ynat-v1_train_11475       3   \n",
       "2  ynat-v1_train_06413       3   \n",
       "3  ynat-v1_train_38468       3   \n",
       "4  ynat-v1_train_41801       3   \n",
       "\n",
       "                                                                                                                                                         probs   \n",
       "0   [0.0035275507252663374, 0.0043939026072621346, 0.010365847498178482, 0.002043513348326087, 0.013879763893783092, 0.003134066704660654, 0.9626554250717163]  \\\n",
       "1  [0.0035611852072179317, 0.0038410453125834465, 0.009199091233313084, 0.0023092615883797407, 0.008370122872292995, 0.003002507146447897, 0.9697167873382568]   \n",
       "2  [0.0028774600941687822, 0.004127013962715864, 0.012114248238503933, 0.0024750325828790665, 0.007154539227485657, 0.0030288679990917444, 0.9682229161262512]   \n",
       "3   [0.0030039798002690077, 0.003943936433643103, 0.013137586414813995, 0.002609808463603258, 0.007909867912530899, 0.0026529175229370594, 0.9667419195175171]   \n",
       "4    [0.003202886786311865, 0.0047707404009997845, 0.023398585617542267, 0.002672265050932765, 0.005640968680381775, 0.004050295799970627, 0.9562642574310303]   \n",
       "\n",
       "   pred  \n",
       "0     6  \n",
       "1     6  \n",
       "2     6  \n",
       "3     6  \n",
       "4     6  "
      ]
     },
     "execution_count": 11,
     "metadata": {},
     "output_type": "execute_result"
    }
   ],
   "source": [
    "fatal_issue_df.head()"
   ]
  },
  {
   "cell_type": "code",
   "execution_count": 12,
   "metadata": {},
   "outputs": [],
   "source": [
    "fatal_issue_df[\"text\"] = train_df.set_index(\"ID\").loc[fatal_issue_df[\"ID\"]].reset_index()[\"text\"]"
   ]
  },
  {
   "cell_type": "code",
   "execution_count": 13,
   "metadata": {},
   "outputs": [],
   "source": [
    "fatal_issue_df[\"target_text\"] = fatal_issue_df[\"target\"].apply(lambda x: idx_to_text[x])\n",
    "fatal_issue_df[\"pred_text\"] = fatal_issue_df[\"pred\"].apply(lambda x: idx_to_text[x])"
   ]
  },
  {
   "cell_type": "code",
   "execution_count": 14,
   "metadata": {},
   "outputs": [
    {
     "data": {
      "text/html": [
       "<div>\n",
       "<style scoped>\n",
       "    .dataframe tbody tr th:only-of-type {\n",
       "        vertical-align: middle;\n",
       "    }\n",
       "\n",
       "    .dataframe tbody tr th {\n",
       "        vertical-align: top;\n",
       "    }\n",
       "\n",
       "    .dataframe thead th {\n",
       "        text-align: right;\n",
       "    }\n",
       "</style>\n",
       "<table border=\"1\" class=\"dataframe\">\n",
       "  <thead>\n",
       "    <tr style=\"text-align: right;\">\n",
       "      <th></th>\n",
       "      <th>text</th>\n",
       "      <th>target_text</th>\n",
       "      <th>pred_text</th>\n",
       "    </tr>\n",
       "  </thead>\n",
       "  <tbody>\n",
       "    <tr>\n",
       "      <th>777</th>\n",
       "      <td>MB 친형 압수수색에도 대응 없이 정중동…한국당도 신중종합</td>\n",
       "      <td>사회</td>\n",
       "      <td>정치</td>\n",
       "    </tr>\n",
       "    <tr>\n",
       "      <th>733</th>\n",
       "      <td>최고위원회의 발언하는 우원식</td>\n",
       "      <td>사회</td>\n",
       "      <td>정치</td>\n",
       "    </tr>\n",
       "    <tr>\n",
       "      <th>173</th>\n",
       "      <td>알사드 AFC챔피언스리그 4강 진출…정우영 풀타임</td>\n",
       "      <td>경제</td>\n",
       "      <td>스포츠</td>\n",
       "    </tr>\n",
       "    <tr>\n",
       "      <th>697</th>\n",
       "      <td>후 긴장 감도는 가자지구에 십싸만명부 늬료용품 공급</td>\n",
       "      <td>사회</td>\n",
       "      <td>세계</td>\n",
       "    </tr>\n",
       "    <tr>\n",
       "      <th>402</th>\n",
       "      <td>EU 융커 차기 집행위원장 후보 추천과정 투명하지 않았다</td>\n",
       "      <td>사회</td>\n",
       "      <td>세계</td>\n",
       "    </tr>\n",
       "    <tr>\n",
       "      <th>315</th>\n",
       "      <td>트럼프·엡스타인 1992년 마러라고서 여성 20여명과 파티</td>\n",
       "      <td>경제</td>\n",
       "      <td>세계</td>\n",
       "    </tr>\n",
       "    <tr>\n",
       "      <th>325</th>\n",
       "      <td>獨도끼만행범 허술한 신분검사 거쳐 헝가리서 입국</td>\n",
       "      <td>IT과학</td>\n",
       "      <td>세계</td>\n",
       "    </tr>\n",
       "    <tr>\n",
       "      <th>488</th>\n",
       "      <td>터키 EU 제재에도 동지중해 가스 시추 계속종합</td>\n",
       "      <td>정치</td>\n",
       "      <td>세계</td>\n",
       "    </tr>\n",
       "    <tr>\n",
       "      <th>799</th>\n",
       "      <td>與 비대위 전환도 교착…위원장·권한 놓고 힘겨루기</td>\n",
       "      <td>사회</td>\n",
       "      <td>정치</td>\n",
       "    </tr>\n",
       "    <tr>\n",
       "      <th>508</th>\n",
       "      <td>국내 주식형 펀드에 사흘 만에 자금 순유입</td>\n",
       "      <td>IT과학</td>\n",
       "      <td>경제</td>\n",
       "    </tr>\n",
       "    <tr>\n",
       "      <th>368</th>\n",
       "      <td>신간 오버 더 초이스</td>\n",
       "      <td>정치</td>\n",
       "      <td>생활문화</td>\n",
       "    </tr>\n",
       "    <tr>\n",
       "      <th>693</th>\n",
       "      <td>트럼프 아프간 철군 회의…좋은 회의…가능하면 거래종합</td>\n",
       "      <td>정치</td>\n",
       "      <td>세계</td>\n",
       "    </tr>\n",
       "    <tr>\n",
       "      <th>151</th>\n",
       "      <td>한국 축구대표팀 아시안컵 출전국 중 평균신장 2위</td>\n",
       "      <td>경제</td>\n",
       "      <td>스포츠</td>\n",
       "    </tr>\n",
       "    <tr>\n",
       "      <th>299</th>\n",
       "      <td>트럼프 법무장관이 힐러리우크라이나 연루 의혹 알아보길</td>\n",
       "      <td>사회</td>\n",
       "      <td>세계</td>\n",
       "    </tr>\n",
       "    <tr>\n",
       "      <th>153</th>\n",
       "      <td>푸틴아베 모스크바서 회담…평화조약 체결 협상 진전 못 봐</td>\n",
       "      <td>IT과학</td>\n",
       "      <td>세계</td>\n",
       "    </tr>\n",
       "    <tr>\n",
       "      <th>274</th>\n",
       "      <td>홈런왕 루스 유니폼 67억원에 낙찰…역대 스포츠경매 최고가</td>\n",
       "      <td>IT과학</td>\n",
       "      <td>스포츠</td>\n",
       "    </tr>\n",
       "    <tr>\n",
       "      <th>125</th>\n",
       "      <td>손흥민 원톱으로 62분 활약…토트넘은 맨유에 01 패배</td>\n",
       "      <td>생활문화</td>\n",
       "      <td>스포츠</td>\n",
       "    </tr>\n",
       "    <tr>\n",
       "      <th>690</th>\n",
       "      <td>유진투자 SK머티리얼즈 4분기 실적 사상 최대</td>\n",
       "      <td>사회</td>\n",
       "      <td>경제</td>\n",
       "    </tr>\n",
       "    <tr>\n",
       "      <th>470</th>\n",
       "      <td>시즌 아웃 즐라탄 더 강해져서 돌아오겠다</td>\n",
       "      <td>세계</td>\n",
       "      <td>스포츠</td>\n",
       "    </tr>\n",
       "    <tr>\n",
       "      <th>649</th>\n",
       "      <td>에인절스 오타니 피칭머신 타겨쿨련…오월 타자로 복뀌</td>\n",
       "      <td>세계</td>\n",
       "      <td>스포츠</td>\n",
       "    </tr>\n",
       "    <tr>\n",
       "      <th>319</th>\n",
       "      <td>中 사드보복 6개월 방한 동남아 관광객도 줄었다…1.5% 감소</td>\n",
       "      <td>사회</td>\n",
       "      <td>세계</td>\n",
       "    </tr>\n",
       "    <tr>\n",
       "      <th>312</th>\n",
       "      <td>배구 간판 김연경 4강 희망 상대 일본 시원하게 꺾고 싶어</td>\n",
       "      <td>사회</td>\n",
       "      <td>스포츠</td>\n",
       "    </tr>\n",
       "    <tr>\n",
       "      <th>182</th>\n",
       "      <td>프로농구 정규리그 MVP에 DB 두경민…신인상 SK 안영준</td>\n",
       "      <td>생활문화</td>\n",
       "      <td>스포츠</td>\n",
       "    </tr>\n",
       "    <tr>\n",
       "      <th>13</th>\n",
       "      <td>北 당대회 앞두고 끝내지 않은 공사도 준공식 RFA</td>\n",
       "      <td>생활문화</td>\n",
       "      <td>정치</td>\n",
       "    </tr>\n",
       "    <tr>\n",
       "      <th>602</th>\n",
       "      <td>北 판문점도끼사건은 美 조작 억지 비난</td>\n",
       "      <td>세계</td>\n",
       "      <td>정치</td>\n",
       "    </tr>\n",
       "    <tr>\n",
       "      <th>76</th>\n",
       "      <td>류현진 12일 애리조나전 등판…SK 출신 켈리와 첫 선발...</td>\n",
       "      <td>생활문화</td>\n",
       "      <td>스포츠</td>\n",
       "    </tr>\n",
       "    <tr>\n",
       "      <th>328</th>\n",
       "      <td>린드블럼 한화전 7이닝 2실점…4경기 연속 퀄리티스타트</td>\n",
       "      <td>정치</td>\n",
       "      <td>스포츠</td>\n",
       "    </tr>\n",
       "    <tr>\n",
       "      <th>197</th>\n",
       "      <td>트럼프 美법무부 서열 3위에 아시아계 여성 검사 지명</td>\n",
       "      <td>생활문화</td>\n",
       "      <td>세계</td>\n",
       "    </tr>\n",
       "    <tr>\n",
       "      <th>481</th>\n",
       "      <td>타이틀리스트 아쿠쉬네트 이르면 9월 美 상장</td>\n",
       "      <td>세계</td>\n",
       "      <td>경제</td>\n",
       "    </tr>\n",
       "    <tr>\n",
       "      <th>82</th>\n",
       "      <td>캄보디아 연말까지만 온라인 도박 허용…中 겨냥</td>\n",
       "      <td>스포츠</td>\n",
       "      <td>세계</td>\n",
       "    </tr>\n",
       "  </tbody>\n",
       "</table>\n",
       "</div>"
      ],
      "text/plain": [
       "                                   text target_text pred_text\n",
       "777    MB 친형 압수수색에도 대응 없이 정중동…한국당도 신중종합          사회        정치\n",
       "733                     최고위원회의 발언하는 우원식          사회        정치\n",
       "173         알사드 AFC챔피언스리그 4강 진출…정우영 풀타임          경제       스포츠\n",
       "697        후 긴장 감도는 가자지구에 십싸만명부 늬료용품 공급          사회        세계\n",
       "402     EU 융커 차기 집행위원장 후보 추천과정 투명하지 않았다          사회        세계\n",
       "315    트럼프·엡스타인 1992년 마러라고서 여성 20여명과 파티          경제        세계\n",
       "325          獨도끼만행범 허술한 신분검사 거쳐 헝가리서 입국        IT과학        세계\n",
       "488          터키 EU 제재에도 동지중해 가스 시추 계속종합          정치        세계\n",
       "799         與 비대위 전환도 교착…위원장·권한 놓고 힘겨루기          사회        정치\n",
       "508             국내 주식형 펀드에 사흘 만에 자금 순유입        IT과학        경제\n",
       "368                         신간 오버 더 초이스          정치      생활문화\n",
       "693       트럼프 아프간 철군 회의…좋은 회의…가능하면 거래종합          정치        세계\n",
       "151         한국 축구대표팀 아시안컵 출전국 중 평균신장 2위          경제       스포츠\n",
       "299       트럼프 법무장관이 힐러리우크라이나 연루 의혹 알아보길          사회        세계\n",
       "153     푸틴아베 모스크바서 회담…평화조약 체결 협상 진전 못 봐        IT과학        세계\n",
       "274    홈런왕 루스 유니폼 67억원에 낙찰…역대 스포츠경매 최고가        IT과학       스포츠\n",
       "125      손흥민 원톱으로 62분 활약…토트넘은 맨유에 01 패배        생활문화       스포츠\n",
       "690           유진투자 SK머티리얼즈 4분기 실적 사상 최대          사회        경제\n",
       "470              시즌 아웃 즐라탄 더 강해져서 돌아오겠다          세계       스포츠\n",
       "649        에인절스 오타니 피칭머신 타겨쿨련…오월 타자로 복뀌          세계       스포츠\n",
       "319  中 사드보복 6개월 방한 동남아 관광객도 줄었다…1.5% 감소          사회        세계\n",
       "312    배구 간판 김연경 4강 희망 상대 일본 시원하게 꺾고 싶어          사회       스포츠\n",
       "182    프로농구 정규리그 MVP에 DB 두경민…신인상 SK 안영준        생활문화       스포츠\n",
       "13         北 당대회 앞두고 끝내지 않은 공사도 준공식 RFA        생활문화        정치\n",
       "602               北 판문점도끼사건은 美 조작 억지 비난          세계        정치\n",
       "76   류현진 12일 애리조나전 등판…SK 출신 켈리와 첫 선발...        생활문화       스포츠\n",
       "328      린드블럼 한화전 7이닝 2실점…4경기 연속 퀄리티스타트          정치       스포츠\n",
       "197       트럼프 美법무부 서열 3위에 아시아계 여성 검사 지명        생활문화        세계\n",
       "481            타이틀리스트 아쿠쉬네트 이르면 9월 美 상장          세계        경제\n",
       "82            캄보디아 연말까지만 온라인 도박 허용…中 겨냥         스포츠        세계"
      ]
     },
     "execution_count": 14,
     "metadata": {},
     "output_type": "execute_result"
    }
   ],
   "source": [
    "# target_text에서 pred_text로 target을 수정\n",
    "fatal_issue_df[[\"text\", \"target_text\", \"pred_text\"]].sample(30)"
   ]
  },
  {
   "cell_type": "code",
   "execution_count": 15,
   "metadata": {},
   "outputs": [],
   "source": [
    "for idx, row in fatal_issue_df.iterrows():\n",
    "    df_indexer = (train_df[\"ID\"] == row[\"ID\"])\n",
    "    train_df.loc[df_indexer, \"target\"] = row[\"pred\"]"
   ]
  },
  {
   "cell_type": "code",
   "execution_count": 16,
   "metadata": {},
   "outputs": [],
   "source": [
    "train_df.drop_duplicates(subset=[\"text\", \"target\"], inplace=True, ignore_index=True)"
   ]
  },
  {
   "cell_type": "code",
   "execution_count": 17,
   "metadata": {},
   "outputs": [],
   "source": [
    "train_df.to_csv(\"../data/cutoff_v3.csv\", index=False)"
   ]
  }
 ],
 "metadata": {
  "kernelspec": {
   "display_name": "base",
   "language": "python",
   "name": "python3"
  },
  "language_info": {
   "codemirror_mode": {
    "name": "ipython",
    "version": 3
   },
   "file_extension": ".py",
   "mimetype": "text/x-python",
   "name": "python",
   "nbconvert_exporter": "python",
   "pygments_lexer": "ipython3",
   "version": "3.11.3"
  },
  "orig_nbformat": 4
 },
 "nbformat": 4,
 "nbformat_minor": 2
}
